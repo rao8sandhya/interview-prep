{
 "cells": [
  {
   "cell_type": "code",
   "execution_count": null,
   "metadata": {},
   "outputs": [],
   "source": [
    "# %pip install numpy\n",
    "# %pip install matplotlib\n",
    "# !docker run --name my-postgres -e POSTGRES_PASSWORD=mysecretpassword -p 5532:5432 -d postgres:latest\n",
    "# %pip install psycopg2-binary\n",
    "\n",
    "# docker run -it --rm postgres psql -h host.docker.internal -U <username> -d <database_name>\n",
    "# %pip install sqlalchemy \n",
    "%pip install pony\n",
    "\n"
   ]
  },
  {
   "cell_type": "code",
   "execution_count": null,
   "metadata": {},
   "outputs": [],
   "source": [
    "import psycopg2\n",
    "\n",
    "# Define your database connection parameters\n",
    "db_params = {\n",
    "    \"dbname\": \"postgres\",\n",
    "    \"user\": \"postgres\",        # Default superuser\n",
    "    \"password\": \"mysecretpassword\",\n",
    "    \"host\": \"localhost\",  # e.g., \"localhost\" or an IP address\n",
    "    \"port\": \"5532\"   # e.g., \"5432\" (default port for PostgreSQL)\n",
    "}\n",
    "\n",
    "# Establish the connection\n",
    "try:\n",
    "    connection = psycopg2.connect(**db_params)\n",
    "    cursor = connection.cursor()\n",
    "    print(\"Connection to PostgreSQL DB successful\")\n",
    "\n",
    "    # Optionally, execute a simple query to check the connection\n",
    "    cursor.execute(\"SELECT version();\")\n",
    "    db_version = cursor.fetchone()\n",
    "    print(f\"PostgreSQL database version: {db_version}\")\n",
    "\n",
    "    # Close the cursor and connection\n",
    "    cursor.close()\n",
    "    connection.close()\n",
    "\n",
    "except Exception as error:\n",
    "    print(f\"Error while connecting to PostgreSQL: {error}\")\n"
   ]
  },
  {
   "cell_type": "code",
   "execution_count": null,
   "metadata": {},
   "outputs": [],
   "source": [
    "from pony.orm import Database, Required, db_session, PrimaryKey\n",
    "import psycopg2\n",
    "\n",
    "# Define the database connection parameters\n",
    "db = Database()\n",
    "\n",
    "db.bind( provider='postgres', user='postgres', password='mysecretpassword', host='localhost', database='postgres', port='5532'  # default port is 5432\n",
    ")\n",
    "\n",
    "# Define the Product entity\n",
    "class Product(db.Entity):\n",
    "    id = PrimaryKey(int, auto=True)\n",
    "    name = Required(str)\n",
    "    price = Required(float)\n",
    "\n",
    "# Generate the mapping\n",
    "db.generate_mapping(create_tables=True)\n",
    "\n",
    "# Insert data into the Product table\n",
    "@db_session\n",
    "def insert_product(name, price):\n",
    "    Product(name=name, price=price)\n",
    "\n",
    "# Example usage\n",
    "def create_records():\n",
    "    insert_product('p1', 10.99)\n",
    "    insert_product('p2', 25.50)\n",
    "\n",
    "    # Fetch and print all products\n",
    "    with db_session:\n",
    "        products = Product.select()\n",
    "        for product in products:\n",
    "            print(product.name, product.price)\n",
    "@db_session\n",
    "def delete_by_id(id):\n",
    "  with db_session:\n",
    "    Product.delete(p for p in Product if p.id == id)\n"
   ]
  },
  {
   "cell_type": "code",
   "execution_count": null,
   "metadata": {},
   "outputs": [],
   "source": [
    "# create_records()\n",
    "\n",
    "delete_by_id(2)"
   ]
  },
  {
   "cell_type": "code",
   "execution_count": null,
   "metadata": {},
   "outputs": [],
   "source": [
    "\n",
    "recs = Product.select_by_sql(\"SELECT * FROM Product\")\n",
    "for r in recs:\n",
    "  print(f\"{r.id} {r.name}={r.price}\")"
   ]
  }
 ],
 "metadata": {
  "kernelspec": {
   "display_name": "Python 3",
   "language": "python",
   "name": "python3"
  },
  "language_info": {
   "codemirror_mode": {
    "name": "ipython",
    "version": 3
   },
   "file_extension": ".py",
   "mimetype": "text/x-python",
   "name": "python",
   "nbconvert_exporter": "python",
   "pygments_lexer": "ipython3",
   "version": "3.12.4"
  }
 },
 "nbformat": 4,
 "nbformat_minor": 2
}
